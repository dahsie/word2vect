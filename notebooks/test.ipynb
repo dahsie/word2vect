{
 "cells": [
  {
   "cell_type": "code",
   "execution_count": 7,
   "metadata": {},
   "outputs": [],
   "source": [
    "import sys\n",
    "\n",
    "sys.path.append(\"/home/dah/nlp/word2vect/src/\")\n",
    "from word2vect import Word2vect\n",
    "from dataset_processor import Word2VectPreprocessor\n",
    "from cross_entropy import CrossEntropyLoss\n",
    "from optimizer import Optimizer\n",
    "from embedding import Embedding\n",
    "from trainer import Trainer"
   ]
  },
  {
   "cell_type": "code",
   "execution_count": 8,
   "metadata": {},
   "outputs": [],
   "source": [
    "EMBEDDING_DIM = 50\n",
    "EPOCHS = 150\n",
    "BATCH_SIZE = 64\n",
    "CONTEXT_WINDOW = 3\n",
    "LEARNING_RATE = 1e-3"
   ]
  },
  {
   "cell_type": "code",
   "execution_count": 9,
   "metadata": {},
   "outputs": [],
   "source": [
    "processor = Word2VectPreprocessor()\n",
    "data = processor.load_data([\"/home/dah/nlp/word2vect/dataset/shakespeare.txt\"])\n",
    "processor.build_vocab(data=data)\n",
    "# X, y = next(processor.create_batch(data = data, context_window = 5, batch_size = 10))\n",
    "VOCAB_SIZE = processor.V\n"
   ]
  },
  {
   "cell_type": "code",
   "execution_count": 10,
   "metadata": {},
   "outputs": [],
   "source": [
    "model = Word2vect(embedding_dim=EMBEDDING_DIM, vocab_size=VOCAB_SIZE, random_state=42)"
   ]
  },
  {
   "cell_type": "code",
   "execution_count": 11,
   "metadata": {},
   "outputs": [],
   "source": [
    "optimizer = Optimizer(learning_rate = LEARNING_RATE)\n",
    "loss_fn = CrossEntropyLoss()"
   ]
  },
  {
   "cell_type": "code",
   "execution_count": 12,
   "metadata": {},
   "outputs": [],
   "source": [
    "trainer = Trainer(model = model, optimizer = optimizer, loss_fn=loss_fn, data_processor= processor)"
   ]
  },
  {
   "cell_type": "code",
   "execution_count": 13,
   "metadata": {},
   "outputs": [
    {
     "name": "stdout",
     "output_type": "stream",
     "text": [
      "Epoch 10, Loss: 7.649169\n",
      "Epoch 20, Loss: 7.322247\n",
      "Epoch 30, Loss: 7.141423\n",
      "Epoch 40, Loss: 7.005360\n",
      "Epoch 50, Loss: 6.895554\n",
      "learning rate : 0.0005\n",
      "Epoch 60, Loss: 6.851802\n",
      "Epoch 70, Loss: 6.812154\n",
      "Epoch 80, Loss: 6.778128\n",
      "Epoch 90, Loss: 6.748880\n",
      "Epoch 100, Loss: 6.723513\n",
      "learning rate : 0.00025\n",
      "Epoch 110, Loss: 6.713573\n",
      "Epoch 120, Loss: 6.702796\n",
      "Epoch 130, Loss: 6.692588\n",
      "Epoch 140, Loss: 6.682880\n",
      "Epoch 150, Loss: 6.673607\n",
      "learning rate : 0.000125\n"
     ]
    }
   ],
   "source": [
    "trainer.train(data = data,epochs=EPOCHS, batch_size=BATCH_SIZE, context_window= CONTEXT_WINDOW)"
   ]
  },
  {
   "cell_type": "code",
   "execution_count": 15,
   "metadata": {},
   "outputs": [],
   "source": [
    "embedding_model = Embedding(model=model, word2Ind= processor.word2Ind, ind2Word=processor.ind2Word, metric= 'cosine')"
   ]
  },
  {
   "cell_type": "code",
   "execution_count": 16,
   "metadata": {},
   "outputs": [
    {
     "data": {
      "text/plain": [
       "array([0.30884769, 0.29002241, 0.78342781, 0.23715287, 0.42267997,\n",
       "       0.42537201, 0.70394555, 0.27812907, 0.80257338, 0.08780768,\n",
       "       0.54838449, 0.57710479, 0.64989317, 0.25222175, 0.49514414,\n",
       "       0.47389222, 0.40768202, 0.41939296, 0.61335308, 0.52732444,\n",
       "       0.81215234, 0.46908925, 0.52496249, 0.60162451, 0.47013703,\n",
       "       0.76924384, 0.36903188, 0.56789467, 0.43267715, 0.17006891,\n",
       "       0.36559569, 0.61334807, 0.49752399, 0.534874  , 0.65993573,\n",
       "       0.33395652, 0.25673255, 0.06462583, 0.76096405, 0.51005417,\n",
       "       0.27772749, 0.62302446, 0.43597013, 0.15161378, 0.49751159,\n",
       "       0.80013456, 0.63807776, 0.30250365, 0.37039317, 0.27438609])"
      ]
     },
     "execution_count": 16,
     "metadata": {},
     "output_type": "execute_result"
    }
   ],
   "source": [
    "embedding_model.embedding('Italy')"
   ]
  },
  {
   "cell_type": "code",
   "execution_count": 17,
   "metadata": {},
   "outputs": [
    {
     "data": {
      "text/plain": [
       "(10, 50)"
      ]
     },
     "execution_count": 17,
     "metadata": {},
     "output_type": "execute_result"
    }
   ],
   "source": [
    "words = ['king', 'queen','lord','man', 'woman','dog','wolf',\n",
    "         'rich','happy','sad']\n",
    "\n",
    "X = embedding_model.batch_embedding(words=words)\n",
    " \n",
    "# given a list of words and the embeddings, it returns a matrix with all the embeddings\n",
    "# idx = [processor.word2Ind[word] for word in words]\n",
    "# X = embs[:, idx]\n",
    "# print(X.shape, idx)  # X.shape:  Number of words of dimension N each \n",
    "X.shape"
   ]
  },
  {
   "cell_type": "code",
   "execution_count": 18,
   "metadata": {},
   "outputs": [
    {
     "data": {
      "text/plain": [
       "(10, 50)"
      ]
     },
     "execution_count": 18,
     "metadata": {},
     "output_type": "execute_result"
    }
   ],
   "source": [
    "X.shape"
   ]
  },
  {
   "cell_type": "code",
   "execution_count": 19,
   "metadata": {},
   "outputs": [],
   "source": [
    "from sklearn.decomposition import PCA\n",
    "compute_pca = PCA(n_components=2)\n",
    "from matplotlib import pyplot"
   ]
  },
  {
   "cell_type": "code",
   "execution_count": 21,
   "metadata": {},
   "outputs": [
    {
     "data": {
      "image/png": "[encoded data removed]",
      "text/plain": [
       "<Figure size 640x480 with 1 Axes>"
      ]
     },
     "metadata": {},
     "output_type": "display_data"
    }
   ],
   "source": [
    "result= compute_pca.fit_transform(X)\n",
    "pyplot.scatter(result[:, 0], result[:, 1])\n",
    "for i, word in enumerate(words):\n",
    "    pyplot.annotate(word, xy=(result[i, 0], result[i, 1]))\n",
    "pyplot.show()"
   ]
  },
  {
   "cell_type": "code",
   "execution_count": null,
   "metadata": {},
   "outputs": [],
   "source": []
  }
 ],
 "metadata": {
  "kernelspec": {
   "display_name": "nlp",
   "language": "python",
   "name": "python3"
  },
  "language_info": {
   "codemirror_mode": {
    "name": "ipython",
    "version": 3
   },
   "file_extension": ".py",
   "mimetype": "text/x-python",
   "name": "python",
   "nbconvert_exporter": "python",
   "pygments_lexer": "ipython3",
   "version": "3.12.1"
  }
 },
 "nbformat": 4,
 "nbformat_minor": 2
}
